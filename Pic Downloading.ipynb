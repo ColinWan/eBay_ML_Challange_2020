{
 "cells": [
  {
   "cell_type": "code",
   "execution_count": 38,
   "metadata": {},
   "outputs": [
    {
     "name": "stdout",
     "output_type": "stream",
     "text": [
      "Path already exists\n"
     ]
    }
   ],
   "source": [
    "import os\n",
    "path = './img_data'\n",
    "if os.path.isdir(path):\n",
    "    print('Path already exists')\n",
    "else:\n",
    "    os.mkdir('./img_data')"
   ]
  },
  {
   "cell_type": "code",
   "execution_count": 42,
   "metadata": {},
   "outputs": [],
   "source": [
    "import requests\n",
    "import shutil\n",
    "\n",
    "def image_download(image_url, image_name, path):\n",
    "    try:\n",
    "        r = requests.get(image_url, stream = True)\n",
    "        # Check if the image was retrieved successfully\n",
    "        if r.status_code == 200:\n",
    "            # Set decode_content value to True, otherwise the downloaded image file's size will be zero.\n",
    "            r.raw.decode_content = True\n",
    "\n",
    "            # Open a local file with wb ( write binary ) permission.\n",
    "            with open(path + '/' + image_name,'wb') as f:\n",
    "                shutil.copyfileobj(r.raw, f)\n",
    "        else:\n",
    "            print('Image Couldn\\'t be retreived: ', image_name)\n",
    "    except:\n",
    "        print(\"invalid url: \" + image_url)"
   ]
  },
  {
   "cell_type": "code",
   "execution_count": 40,
   "metadata": {},
   "outputs": [
    {
     "name": "stdout",
     "output_type": "stream",
     "text": [
      "\n",
      "\n"
     ]
    }
   ],
   "source": [
    "a_file = open(\"mlchallenge_set_2021.tsv\")\n",
    "## the number of listings that you want to download images of\n",
    "number_of_listings = 5\n",
    "for i in range(number_of_listings):\n",
    "    line = a_file.readline()\n",
    "    line_list = line.split()\n",
    "    \n",
    "    listing_index = line_list[-1]\n",
    "    primary_image_url = line_list[1]\n",
    "    \n",
    "    # The first url in the list still refers to the primary image, so we just skip it.\n",
    "    secondary_image_url_list = line_list[2].split(\";\")[1:]\n",
    "    \n",
    "    \n",
    "    image_download(primary_image_url, listing_index + '_Primary', path)\n",
    "    for i in  range(len(secondary_image_url_list)):\n",
    "        ## image name is defined as: index of the listing + level of picture + index of this pic in this listing    \n",
    "        image_download(secondary_image_url_list[i], listing_index + '_Secondary_' + str(i), path)"
   ]
  },
  {
   "cell_type": "code",
   "execution_count": null,
   "metadata": {},
   "outputs": [],
   "source": []
  }
 ],
 "metadata": {
  "kernelspec": {
   "display_name": "Python 3",
   "language": "python",
   "name": "python3"
  },
  "language_info": {
   "codemirror_mode": {
    "name": "ipython",
    "version": 3
   },
   "file_extension": ".py",
   "mimetype": "text/x-python",
   "name": "python",
   "nbconvert_exporter": "python",
   "pygments_lexer": "ipython3",
   "version": "3.7.3"
  }
 },
 "nbformat": 4,
 "nbformat_minor": 4
}
